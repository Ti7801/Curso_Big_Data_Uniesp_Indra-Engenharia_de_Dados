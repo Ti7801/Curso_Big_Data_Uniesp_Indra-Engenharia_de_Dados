{
 "cells": [
  {
   "cell_type": "code",
   "execution_count": 71,
   "metadata": {},
   "outputs": [],
   "source": [
    "from pyspark.sql import SparkSession, dataframe\n",
    "from pyspark.sql.types import StructType, StructField\n",
    "from pyspark.sql.types import DoubleType, IntegerType, StringType\n",
    "from pyspark.sql import HiveContext\n",
    "\n",
    "from pyspark.sql.functions import regexp_replace\n",
    "from pyspark.sql.functions import when\n",
    "\n",
    "spark = SparkSession.builder.master(\"local[*]\")\\\n",
    "    .enableHiveSupport()\\\n",
    "    .getOrCreate()"
   ]
  },
  {
   "cell_type": "code",
   "execution_count": 104,
   "metadata": {},
   "outputs": [
    {
     "name": "stdout",
     "output_type": "stream",
     "text": [
      "root\n",
      " |-- id_discente: integer (nullable = true)\n",
      " |-- nome: string (nullable = true)\n",
      " |-- ano_ingresso: integer (nullable = true)\n",
      " |-- periodo_ingresso: integer (nullable = true)\n",
      " |-- nivel: string (nullable = true)\n",
      " |-- id_forma_ingresso: integer (nullable = true)\n",
      " |-- id_curso: integer (nullable = true)\n",
      "\n"
     ]
    }
   ],
   "source": [
    "#LENDO DADOS SPARK\n",
    "dataframe_alunos_csv =  spark.read.option(\"header\",\"true\").option(\"inferSchema\" , \"true\")\\\n",
    "        .csv(\"/user/aluno/caiua/dados_aluno/alunos.csv\")\n",
    "\n",
    "dataframe_alunos_csv.printSchema()\n",
    "\n",
    "#dataframe_alunos.show()\n",
    "\n",
    "\n",
    "\n",
    "#df.write.mode(\"overwrite\").saveAsTable(\"curso_bigdata_indra.aluno_curso\")"
   ]
  },
  {
   "cell_type": "code",
   "execution_count": 93,
   "metadata": {},
   "outputs": [
    {
     "name": "stdout",
     "output_type": "stream",
     "text": [
      "+-----------+--------------------+------------+----------------+------------------+-----------------+--------+----------+\n",
      "|id_discente|                nome|ano_ingresso|periodo_ingresso|             nivel|id_forma_ingresso|id_curso|   dt_foto|\n",
      "+-----------+--------------------+------------+----------------+------------------+-----------------+--------+----------+\n",
      "|      14627|MATHEUS OLIVEIRA ...|        2015|               1|         Graduação|            34110|  181097|2022-05-28|\n",
      "|      15754|MATHEUS OLIVEIRA ...|        2016|               1|         Graduação|            62151| 1304109|2022-05-28|\n",
      "|      15940| MATHEUS PAZ ANGLADA|        2017|                |MATERNAL INTEGRADO|            37350|    5143|2022-05-28|\n",
      "|      22332|MATHEUS PELISSON ...|        2018|               0|     Não Informado|          2081113| 2399346|2022-05-28|\n",
      "|      11692|MATHEUS PEREIRA C...|        2016|                |MATERNAL INTEGRADO|            37350|    3402|2022-05-28|\n",
      "|      23381|MATHEUS PINHEIRO ...|        2018|               1|         Graduação|            62151|   77498|2022-05-28|\n",
      "|        531|MATHEUS PINHEIRO ...|        2015|                |MATERNAL INTEGRADO|            37350|    3402|2022-05-28|\n",
      "|      18838|MATHEUS PINTO DE ...|        2017|               1|         Graduação|            62151|   79131|2022-05-28|\n",
      "|      18444|MATHEUS RAMALHO CHIM|        2017|               1|         Graduação|            62151|   69827|2022-05-28|\n",
      "|      11193|MATHEUS RODRIGUES...|        2016|                |MATERNAL INTEGRADO|            37350|    3669|2022-05-28|\n",
      "|      17877|MATHEUS ROGÉRIO B...|        2017|                |MATERNAL INTEGRADO|          2081113|   35662|2022-05-28|\n",
      "|      17635| MATHEUS ROSA GODOIS|        2017|                |MATERNAL INTEGRADO|          2081113|    5738|2022-05-28|\n",
      "|      10429|MATHEUS SALDANHA ...|        2015|                |MATERNAL INTEGRADO|            37350|    3402|2022-05-28|\n",
      "|      22183|MATHEUS SCHULTZ MOTA|        2018|               0|     Não Informado|          2081113| 2399333|2022-05-28|\n",
      "|      25315|MATHEUS SILVA DE ...|        2018|               1|     Não Informado|          2081111|      27|2022-05-28|\n",
      "|      26855|MATHEUS SOARES BR...|        2019|               1|         Graduação|            34132|  238181|2022-05-28|\n",
      "|       2718|MATHEUS SOARES DA...|        2014|               0|MATERNAL INTEGRADO|          2081113|    3402|2022-05-28|\n",
      "|      16941| MATHEUS SPAT GINDRI|        2017|                |MATERNAL INTEGRADO|          2081113|    3402|2022-05-28|\n",
      "|      20476|MATHEUS TECHIO BUDKE|        2017|               1|     Não Informado|          2081115| 1913420|2022-05-28|\n",
      "|      23842|MATHEUS TOALDO SI...|        2018|               1|         Graduação|            62151|  181097|2022-05-28|\n",
      "+-----------+--------------------+------------+----------------+------------------+-----------------+--------+----------+\n",
      "only showing top 20 rows\n",
      "\n"
     ]
    }
   ],
   "source": [
    "# PEGANDO DADOS DO HIVE\n",
    "dataframe_alunos = spark.sql(\"SELECT * FROM desafio_hive.tbl_alunos\")\n",
    "\n",
    "# TRATAMENTO DE DADOS COM DATAFRAME\n",
    "dataframe_alunos = dataframe_alunos.withColumn('nome', regexp_replace('nome','\\\"', ''))\n",
    "\n",
    "dataframe_alunos.withColumn(\"nivel\", when(dataframe_alunos.nivel == \"G\",\"Graduação\")\n",
    "      .when(dataframe_alunos.nivel == \"M\",\"MATERNAL INTEGRADO\")\n",
    "      .otherwise('Não Informado')).show()"
   ]
  },
  {
   "cell_type": "code",
   "execution_count": 132,
   "metadata": {},
   "outputs": [],
   "source": [
    "dataframe_cursos = spark.sql(\"SELECT * FROM desafio_hive.tbl_cursos\")"
   ]
  },
  {
   "cell_type": "code",
   "execution_count": 94,
   "metadata": {},
   "outputs": [
    {
     "name": "stdout",
     "output_type": "stream",
     "text": [
      "+-----------+--------------------+--------------------+------------+----------------+-----------------+--------+----------+\n",
      "|id_discente|                nome|               nivel|ano_ingresso|periodo_ingresso|id_forma_ingresso|id_curso|   dt_foto|\n",
      "+-----------+--------------------+--------------------+------------+----------------+-----------------+--------+----------+\n",
      "|      14627|MATHEUS OLIVEIRA ...|           GRADUAÇÃO|        2015| SEGUNDO PERIODO|            34110|  181097|2022-05-28|\n",
      "|      15754|MATHEUS OLIVEIRA ...|           GRADUAÇÃO|        2016| SEGUNDO PERIODO|            62151| 1304109|2022-05-28|\n",
      "|      15940| MATHEUS PAZ ANGLADA|  MATERNAL INTEGRADO|        2017|   NÃO INFORMADO|            37350|    5143|2022-05-28|\n",
      "|      22332|MATHEUS PELISSON ...|MATERNAL INTEGRAD...|        2018|PRIMEIRO PERIODO|          2081113| 2399346|2022-05-28|\n",
      "|      11692|MATHEUS PEREIRA C...|  MATERNAL INTEGRADO|        2016|   NÃO INFORMADO|            37350|    3402|2022-05-28|\n",
      "|      23381|MATHEUS PINHEIRO ...|           GRADUAÇÃO|        2018| SEGUNDO PERIODO|            62151|   77498|2022-05-28|\n",
      "|        531|MATHEUS PINHEIRO ...|  MATERNAL INTEGRADO|        2015|   NÃO INFORMADO|            37350|    3402|2022-05-28|\n",
      "|      18838|MATHEUS PINTO DE ...|           GRADUAÇÃO|        2017| SEGUNDO PERIODO|            62151|   79131|2022-05-28|\n",
      "|      18444|MATHEUS RAMALHO CHIM|           GRADUAÇÃO|        2017| SEGUNDO PERIODO|            62151|   69827|2022-05-28|\n",
      "|      11193|MATHEUS RODRIGUES...|  MATERNAL INTEGRADO|        2016|   NÃO INFORMADO|            37350|    3669|2022-05-28|\n",
      "|      17877|MATHEUS ROGÉRIO B...|  MATERNAL INTEGRADO|        2017|   NÃO INFORMADO|          2081113|   35662|2022-05-28|\n",
      "|      17635| MATHEUS ROSA GODOIS|  MATERNAL INTEGRADO|        2017|   NÃO INFORMADO|          2081113|    5738|2022-05-28|\n",
      "|      10429|MATHEUS SALDANHA ...|  MATERNAL INTEGRADO|        2015|   NÃO INFORMADO|            37350|    3402|2022-05-28|\n",
      "|      22183|MATHEUS SCHULTZ MOTA|MATERNAL INTEGRAD...|        2018|PRIMEIRO PERIODO|          2081113| 2399333|2022-05-28|\n",
      "|      25315|MATHEUS SILVA DE ...|         SUBSEQUENTE|        2018| SEGUNDO PERIODO|          2081111|      27|2022-05-28|\n",
      "|      26855|MATHEUS SOARES BR...|           GRADUAÇÃO|        2019| SEGUNDO PERIODO|            34132|  238181|2022-05-28|\n",
      "|       2718|MATHEUS SOARES DA...|  MATERNAL INTEGRADO|        2014|PRIMEIRO PERIODO|          2081113|    3402|2022-05-28|\n",
      "|      16941| MATHEUS SPAT GINDRI|  MATERNAL INTEGRADO|        2017|   NÃO INFORMADO|          2081113|    3402|2022-05-28|\n",
      "|      20476|MATHEUS TECHIO BUDKE|         SUBSEQUENTE|        2017| SEGUNDO PERIODO|          2081115| 1913420|2022-05-28|\n",
      "|      23842|MATHEUS TOALDO SI...|           GRADUAÇÃO|        2018| SEGUNDO PERIODO|            62151|  181097|2022-05-28|\n",
      "+-----------+--------------------+--------------------+------------+----------------+-----------------+--------+----------+\n",
      "only showing top 20 rows\n",
      "\n"
     ]
    }
   ],
   "source": [
    "# TRATAMENTO DE DADOS USANDO SPARKSQL\n",
    "spark.sql('''SELECT\n",
    "              id_discente,\n",
    "              trim(replace(nome, '\\\"', '')) as nome,\n",
    "              CASE \n",
    "                  WHEN nivel = \"G\" THEN 'GRADUAÇÃO'\n",
    "                  WHEN nivel = \"M\" THEN 'MATERNAL INTEGRADO'\n",
    "                  WHEN nivel = \"N\" THEN 'MATERNAL INTEGRADO II'\n",
    "                  WHEN nivel = \"T\" THEN 'SUBSEQUENTE'\n",
    "                  WHEN nivel = \"L\" THEN 'POS - LATU SENSO'\n",
    "                  WHEN nivel = \"M\" THEN 'POS - STRICTO SENSO'\n",
    "                  ELSE 'NÃO INFORMADO' \n",
    "              END  AS nivel,\n",
    "              ano_ingresso,\n",
    "              CASE \n",
    "                  WHEN periodo_ingresso = 0 THEN 'PRIMEIRO PERIODO'\n",
    "                  WHEN periodo_ingresso = 1 THEN 'SEGUNDO PERIODO'\n",
    "                  WHEN periodo_ingresso = 2 THEN 'TERCEITO PERIODO'\n",
    "                  WHEN periodo_ingresso = 3 THEN 'QUARTO PERIODO'\n",
    "                  ELSE 'NÃO INFORMADO' \n",
    "              END as periodo_ingresso,\n",
    "              id_forma_ingresso,\n",
    "              id_curso,\n",
    "              dt_foto\n",
    "              FROM desafio_hive.tbl_alunos'''\n",
    "         ).show()"
   ]
  },
  {
   "cell_type": "code",
   "execution_count": 9,
   "metadata": {},
   "outputs": [
    {
     "name": "stdout",
     "output_type": "stream",
     "text": [
      "+----------+--------------------+--------+-------------------+------------+-----+----------+\n",
      "|id_unidade|                nome|   sigla|unidade_responsavel|id_municipio|ativo|   dt_foto|\n",
      "+----------+--------------------+--------+-------------------+------------+-----+----------+\n",
      "|       118|\"ASSESSORIA DE PR...|     APP|                116|        9240|     |2022-05-27|\n",
      "|       105|\"ASSESSORIA DE RE...|     ARI|                110|        9240|     |2022-05-27|\n",
      "|       679|\"ASSESSORIA JURID...|     ASJ|                 51|        9240|     |2022-05-27|\n",
      "|       177|    \"ASSESSORIAS AL\"|   ASSAL|                174|        8550|    1|2022-05-27|\n",
      "|       184|    \"ASSESSORIAS AL\"|  ASSEAL|                174|        8550|     |2022-05-27|\n",
      "|       756|    \"ASSESSORIAS FW\"|   ASSFW|                681|        8883|    1|2022-05-27|\n",
      "|       765|    \"ASSESSORIAS JA\"|   ASSJA|                372|        8960|    1|2022-05-27|\n",
      "|       416|    \"ASSESSORIAS JC\"|   ASSJC|                412|        8971|    1|2022-05-27|\n",
      "|       337|    \"ASSESSORIAS PB\"|   ASSPB|                333|        9091|    1|2022-05-27|\n",
      "|       678|    \"ASSESSORIAS RT\"|   ASSRT|                 52|        9240|    1|2022-05-27|\n",
      "|       297|    \"ASSESSORIAS SA\"|   ASSSA|                293|        9267|    1|2022-05-27|\n",
      "|       763|   \"ASSESSORIAS SAN\"|   ASSAN|                452|        9257|    1|2022-05-27|\n",
      "|       217|    \"ASSESSORIAS SB\"|   ASSSB|                213|        9273|    1|2022-05-27|\n",
      "|       257|    \"ASSESSORIAS SR\"|   ASSSR|                253|        9243|    1|2022-05-27|\n",
      "|       138|   \"ASSESSORIAS SVS\"|  ASSSVS|                134|        9332|    1|2022-05-27|\n",
      "|       677|      \"AUDITORIA AL\"| AUDINAL|                 68|        9240|     |2022-05-27|\n",
      "|        68| \"AUDITORIA INTERNA\"|   AUDIN|                 67|        9240|    1|2022-05-27|\n",
      "|         3|\"AUDITORIA INTERN...|AUD-RIFF|                  1|        9240|     |2022-05-27|\n",
      "|       414|      \"AUDITORIA JC\"| AUDINJC|                 68|        8971|     |2022-05-27|\n",
      "|       295|      \"AUDITORIA SA\"| AUDINSA|                293|        9267|     |2022-05-27|\n",
      "+----------+--------------------+--------+-------------------+------------+-----+----------+\n",
      "only showing top 20 rows\n",
      "\n"
     ]
    }
   ],
   "source": [
    "spark.sql(\"SELECT * FROM desafio_hive.tbl_unidades\").show()"
   ]
  },
  {
   "cell_type": "code",
   "execution_count": 136,
   "metadata": {},
   "outputs": [
    {
     "name": "stdout",
     "output_type": "stream",
     "text": [
      "+-----------+--------------------+------------+----------------+-----+-----------------+--------+\n",
      "|id_discente|                nome|ano_ingresso|periodo_ingresso|nivel|id_forma_ingresso|id_curso|\n",
      "+-----------+--------------------+------------+----------------+-----+-----------------+--------+\n",
      "|      18957|ABELARDO DA SILVA...|        2017|               1|    G|            62151|   76995|\n",
      "|      17977|ABIGAIL ANTUNES S...|        2017|               1|    T|          2081111|  759711|\n",
      "|      16613|ABIGAIL FERNANDA ...|        2017|            null|    M|            37350|    1222|\n",
      "|      17398|ABIGAIL JOSIANE R...|        2017|            null|    M|            37350|    5041|\n",
      "|      26880|ABIMAEL CHRISTOPF...|        2019|               1|    T|          2081115| 1913420|\n",
      "|      28508|   ABNER NUNES PERES|        2019|               1|    G|            37350|  181097|\n",
      "|      18693|ACSA PEREIRA RODR...|        2017|               1|    G|            62151|   77498|\n",
      "|      28071|ACSA ROBALO DOS S...|        2019|               1|    T|          2081115| 3996007|\n",
      "|      21968|AÇUCENA CARVALHO ...|        2018|               0|    N|          2081113| 2399357|\n",
      "|      22374|ADALBERTO LUFT LU...|        2018|               0|    N|          2081113| 2399354|\n",
      "|      26367|ADALBERTO SEIDEL ...|        2019|               1|    G|            34132|   79131|\n",
      "|      25120|ADÃO VAGNER DOS S...|        2018|               1|    G|            62151|  283646|\n",
      "|      19638|     ADELAR DE MELLO|        2017|               1|    G|            37350|   65489|\n",
      "|      24787|ADELITA ALVES SIL...|        2018|               1|    T|          2081111|      31|\n",
      "|      20461|ADELTON ELISANDRO...|        2017|               1|    T|          2081115| 1913420|\n",
      "|      26892|ADEMAR RODRIGUES ...|        2017|               0|    N|          2081113| 2399341|\n",
      "|      17070|ADEMAR SILVEIRA D...|        2017|               1|    T|            37350|    2347|\n",
      "|      28001|ADEMIR LUIZ SCHEN...|        2019|               1|    T|          2081111| 3561806|\n",
      "|      19326|ADEMIR RAFAEL WIE...|        2017|               1|    G|            62151|   62474|\n",
      "|      19480|        ADEMIR STUMM|        2017|               1|    G|            62151|   62467|\n",
      "+-----------+--------------------+------------+----------------+-----+-----------------+--------+\n",
      "only showing top 20 rows\n",
      "\n"
     ]
    }
   ],
   "source": [
    "dataframe_alunos.filter(\"ano_ingresso > 2016\").show()"
   ]
  }
 ],
 "metadata": {
  "kernelspec": {
   "display_name": "PySpark",
   "language": "python",
   "name": "pyspark"
  },
  "language_info": {
   "codemirror_mode": {
    "name": "ipython",
    "version": 3
   },
   "file_extension": ".py",
   "mimetype": "text/x-python",
   "name": "python",
   "nbconvert_exporter": "python",
   "pygments_lexer": "ipython3",
   "version": "3.6.10"
  }
 },
 "nbformat": 4,
 "nbformat_minor": 2
}
